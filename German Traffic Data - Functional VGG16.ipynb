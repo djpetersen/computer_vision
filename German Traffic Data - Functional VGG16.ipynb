{
 "cells": [
  {
   "cell_type": "code",
   "execution_count": 2,
   "metadata": {},
   "outputs": [],
   "source": [
    "#import libraries\n",
    "import os\n",
    "import matplotlib.pyplot as plt\n",
    "import matplotlib.gridspec as gridspec\n",
    "import math\n",
    "import cv2\n",
    "import time as time\n",
    "from sklearn.preprocessing import OneHotEncoder\n",
    "from sklearn.model_selection import train_test_split\n",
    "import numpy as np\n",
    "%matplotlib inline\n",
    "import tensorflow as tf\n",
    "# import prettytensor as pt\n",
    "from PIL import Image\n",
    "import time\n",
    "from datetime import timedelta\n",
    "import numpy as np\n",
    "import pandas as pd\n",
    "from sklearn.metrics import confusion_matrix\n",
    "import keras"
   ]
  },
  {
   "cell_type": "code",
   "execution_count": 3,
   "metadata": {},
   "outputs": [],
   "source": [
    "# One Hot encoding\n",
    "def OHE_labels(Y_tr,N_classes):\n",
    "    OHC = OneHotEncoder()\n",
    "\n",
    "    Y_ohc = OHC.fit(np.arange(N_classes).reshape(-1, 1))\n",
    "    Y_labels = Y_ohc.transform(Y_tr.reshape(-1, 1)).toarray()\n",
    "    return Y_labels"
   ]
  },
  {
   "cell_type": "code",
   "execution_count": 4,
   "metadata": {},
   "outputs": [],
   "source": [
    "# Load pickled data\n",
    "import pickle\n",
    "\n",
    "# TODO: fill this in based on where you saved the training and testing data\n",
    "training_file = 'Downloads/traffic-signs-pickled-dataset/train.p'\n",
    "testing_file = 'Downloads/traffic-signs-pickled-dataset/test.p'\n",
    "\n",
    "with open(training_file, mode='rb') as f:\n",
    "    train = pickle.load(f)\n",
    "with open(testing_file, mode='rb') as f:\n",
    "    test = pickle.load(f)\n",
    "\n",
    "X_train, y_train = train['features'], train['labels']\n",
    "X_test, y_test = test['features'], test['labels']\n",
    "labels_train = OHE_labels(y_train,43)\n",
    "labels_test = OHE_labels(y_test,43)"
   ]
  },
  {
   "cell_type": "code",
   "execution_count": 5,
   "metadata": {},
   "outputs": [],
   "source": [
    "def check_OHE(cls,y):\n",
    "    check = np.linalg.norm(np.argmax(cls,axis=1)-y)\n",
    "    if check == 0:\n",
    "        print('One hot encoding correct, ok to proceed')\n",
    "    else:\n",
    "        print('One hot encoding doesnt match the output, check code!!!')"
   ]
  },
  {
   "cell_type": "code",
   "execution_count": 6,
   "metadata": {},
   "outputs": [
    {
     "name": "stdout",
     "output_type": "stream",
     "text": [
      "One hot encoding correct, ok to proceed\n",
      "One hot encoding correct, ok to proceed\n"
     ]
    }
   ],
   "source": [
    "check_OHE(labels_test,y_test)\n",
    "check_OHE(labels_train,y_train)"
   ]
  },
  {
   "cell_type": "code",
   "execution_count": 7,
   "metadata": {},
   "outputs": [
    {
     "name": "stdout",
     "output_type": "stream",
     "text": [
      "Number of training examples = 39209\n",
      "Number of testing examples = 12630\n",
      "Image data shape = (32, 32, 3)\n",
      "Number of classes = 43\n",
      "(39209, 32, 32, 3)\n",
      "(39209,)\n"
     ]
    }
   ],
   "source": [
    "### basic data summary.\n",
    "\n",
    "# number of training examples\n",
    "n_train = len(y_train)\n",
    "\n",
    "# number of testing examples\n",
    "n_test = len(y_test)\n",
    "\n",
    "# what's the shape of an image?\n",
    "image_shape = np.shape(X_train[1])\n",
    "# how many classes are in the dataset\n",
    "n_classes = len(np.unique(y_train))\n",
    "\n",
    "print(\"Number of training examples =\", n_train)\n",
    "print(\"Number of testing examples =\", n_test)\n",
    "print(\"Image data shape =\", image_shape)\n",
    "print(\"Number of classes =\", n_classes)\n",
    "\n",
    "print(X_train.shape)\n",
    "print(y_train.shape)\n"
   ]
  },
  {
   "cell_type": "code",
   "execution_count": 8,
   "metadata": {},
   "outputs": [],
   "source": [
    "# image processing\n",
    "\n",
    "def plot_random_3C(n_row,n_col,X,y):\n",
    "\n",
    "    plt.figure(figsize = (11,8))\n",
    "    gs1 = gridspec.GridSpec(n_row,n_row)\n",
    "    gs1.update(wspace=0.01, hspace=0.02) # set the spacing between axes.\n",
    "\n",
    "    for i in range(n_row*n_col):\n",
    "        # i = i + 1 # grid spec indexes from 0\n",
    "        ax1 = plt.subplot(gs1[i])\n",
    "        plt.axis('on')\n",
    "        ax1.set_xticklabels([])\n",
    "        ax1.set_yticklabels([])\n",
    "        ax1.set_aspect('equal')\n",
    "        #plt.subplot(4,11,i+1)\n",
    "        ind_plot = np.random.randint(1,len(y))\n",
    "        plt.imshow(X[ind_plot])\n",
    "        plt.text(2,4,str(y[ind_plot]),\n",
    "             color='k',backgroundcolor='c')\n",
    "        plt.axis('off')\n",
    "    plt.show()\n",
    "    \n",
    "def plot_random_1C(n_row,n_col,X,y):\n",
    "\n",
    "    plt.figure(figsize = (11,8))\n",
    "    gs1 = gridspec.GridSpec(n_row,n_row)\n",
    "    gs1.update(wspace=0.01, hspace=0.02) # set the spacing between axes.\n",
    "\n",
    "    for i in range(n_row*n_col):\n",
    "        # i = i + 1 # grid spec indexes from 0\n",
    "        ax1 = plt.subplot(gs1[i])\n",
    "        plt.axis('on')\n",
    "        ax1.set_xticklabels([])\n",
    "        ax1.set_yticklabels([])\n",
    "        ax1.set_aspect('equal')\n",
    "        #plt.subplot(4,11,i+1)\n",
    "        ind_plot = np.random.randint(1,len(y))\n",
    "        plt.imshow(X[ind_plot],cmap='gray')\n",
    "        plt.text(2,4,str(y[ind_plot]),\n",
    "             color='k',backgroundcolor='c')\n",
    "        plt.axis('off')\n",
    "    plt.show()   \n",
    "\n",
    "    \n",
    "def plot_random_preprocess(n_row,n_col,X,y):\n",
    "\n",
    "    plt.figure(figsize = (11,8))\n",
    "    gs1 = gridspec.GridSpec(n_row,n_row)\n",
    "    gs1.update(wspace=0.01, hspace=0.02) # set the spacing between axes.\n",
    "\n",
    "    for i in range(n_row*n_col):\n",
    "        # i = i + 1 # grid spec indexes from 0\n",
    "        ax1 = plt.subplot(gs1[i])\n",
    "        plt.axis('on')\n",
    "        ax1.set_xticklabels([])\n",
    "        ax1.set_yticklabels([])\n",
    "        ax1.set_aspect('equal')\n",
    "        #plt.subplot(4,11,i+1)\n",
    "        ind_plot = np.random.randint(1,len(y))\n",
    "        plt.imshow(pre_process_image(X[ind_plot]),cmap='gray')\n",
    "        plt.text(2,4,str(y[ind_plot]),\n",
    "             color='k',backgroundcolor='c')\n",
    "        plt.axis('off')\n",
    "    plt.show()\n",
    "\n",
    "\n",
    "def pre_process_image(image):\n",
    "\n",
    "    #image = cv2.cvtColor(image, cv2.COLOR_BGR2YUV)\n",
    "    #image = image[:,:,0]\n",
    "    image[:,:,0] = cv2.equalizeHist(image[:,:,0])\n",
    "    image[:,:,1] = cv2.equalizeHist(image[:,:,1])\n",
    "    image[:,:,2] = cv2.equalizeHist(image[:,:,2])\n",
    "    image = image/255.-.5\n",
    "    #image = cv2.resize(image, (img_resize,img_resize),interpolation = cv2.INTER_CUBIC)\n",
    "\n",
    "    return image"
   ]
  },
  {
   "cell_type": "code",
   "execution_count": 12,
   "metadata": {},
   "outputs": [
    {
     "data": {
      "image/png": "[encoded data removed]",
      "text/plain": [
       "<Figure size 792x576 with 16 Axes>"
      ]
     },
     "metadata": {
      "needs_background": "light"
     },
     "output_type": "display_data"
    }
   ],
   "source": [
    "plot_random_3C(4,4,X_train,y_train) # testing"
   ]
  },
  {
   "cell_type": "code",
   "execution_count": 9,
   "metadata": {},
   "outputs": [],
   "source": [
    "# image resizing\n",
    "\n",
    "img_resize = 32\n",
    "N_classes = 43\n",
    "image_shape = (img_resize,img_resize)\n",
    "img_size_flat = img_resize*img_resize\n",
    "\n",
    "\n",
    "image_GS_train = np.array([pre_process_image(X_train[i]) for i in range(len(X_train))],\n",
    "                          dtype = np.float32)\n",
    "image_GS_test = np.array([pre_process_image(X_test[i]) for i in range(len(X_test))],\n",
    "                          dtype = np.float32)"
   ]
  },
  {
   "cell_type": "code",
   "execution_count": 22,
   "metadata": {},
   "outputs": [
    {
     "data": {
      "image/png": "[encoded data removed]",
      "text/plain": [
       "<Figure size 792x576 with 16 Axes>"
      ]
     },
     "metadata": {
      "needs_background": "light"
     },
     "output_type": "display_data"
    }
   ],
   "source": [
    "plot_random_3C(4,4,image_GS_train+.5,y_train)"
   ]
  },
  {
   "cell_type": "code",
   "execution_count": 23,
   "metadata": {},
   "outputs": [],
   "source": [
    "data_i = [[i,sum(y_train == i)] for i in range(len(np.unique(y_train)))]\n",
    "data_i_sorted = sorted(data_i, key=lambda x: x[1])"
   ]
  },
  {
   "cell_type": "code",
   "execution_count": 24,
   "metadata": {},
   "outputs": [],
   "source": [
    "data_pd = pd.read_csv('Downloads/signnames.csv')"
   ]
  },
  {
   "cell_type": "code",
   "execution_count": 25,
   "metadata": {},
   "outputs": [],
   "source": [
    "data_pd['Occurance'] = pd.Series(np.asarray(data_i_sorted).T[1], index=np.asarray(data_i_sorted).T[0])\n",
    "data_pd_sorted = data_pd.sort_values(['Occurance'],ascending=[0]).reset_index()\n",
    "data_pd_sorted = data_pd_sorted.drop('index', 1)"
   ]
  },
  {
   "cell_type": "code",
   "execution_count": 26,
   "metadata": {},
   "outputs": [
    {
     "data": {
      "text/html": [
       "<div>\n",
       "<style scoped>\n",
       "    .dataframe tbody tr th:only-of-type {\n",
       "        vertical-align: middle;\n",
       "    }\n",
       "\n",
       "    .dataframe tbody tr th {\n",
       "        vertical-align: top;\n",
       "    }\n",
       "\n",
       "    .dataframe thead th {\n",
       "        text-align: right;\n",
       "    }\n",
       "</style>\n",
       "<table border=\"1\" class=\"dataframe\">\n",
       "  <thead>\n",
       "    <tr style=\"text-align: right;\">\n",
       "      <th></th>\n",
       "      <th>ClassId</th>\n",
       "      <th>SignName</th>\n",
       "      <th>Occurance</th>\n",
       "    </tr>\n",
       "  </thead>\n",
       "  <tbody>\n",
       "    <tr>\n",
       "      <th>0</th>\n",
       "      <td>2</td>\n",
       "      <td>Speed limit (50km/h)</td>\n",
       "      <td>2010</td>\n",
       "    </tr>\n",
       "    <tr>\n",
       "      <th>1</th>\n",
       "      <td>1</td>\n",
       "      <td>Speed limit (30km/h)</td>\n",
       "      <td>1980</td>\n",
       "    </tr>\n",
       "    <tr>\n",
       "      <th>2</th>\n",
       "      <td>13</td>\n",
       "      <td>Yield</td>\n",
       "      <td>1920</td>\n",
       "    </tr>\n",
       "    <tr>\n",
       "      <th>3</th>\n",
       "      <td>12</td>\n",
       "      <td>Priority road</td>\n",
       "      <td>1890</td>\n",
       "    </tr>\n",
       "    <tr>\n",
       "      <th>4</th>\n",
       "      <td>38</td>\n",
       "      <td>Keep right</td>\n",
       "      <td>1860</td>\n",
       "    </tr>\n",
       "    <tr>\n",
       "      <th>5</th>\n",
       "      <td>10</td>\n",
       "      <td>No passing for vehicles over 3.5 metric tons</td>\n",
       "      <td>1800</td>\n",
       "    </tr>\n",
       "    <tr>\n",
       "      <th>6</th>\n",
       "      <td>4</td>\n",
       "      <td>Speed limit (70km/h)</td>\n",
       "      <td>1770</td>\n",
       "    </tr>\n",
       "    <tr>\n",
       "      <th>7</th>\n",
       "      <td>5</td>\n",
       "      <td>Speed limit (80km/h)</td>\n",
       "      <td>1650</td>\n",
       "    </tr>\n",
       "    <tr>\n",
       "      <th>8</th>\n",
       "      <td>25</td>\n",
       "      <td>Road work</td>\n",
       "      <td>1350</td>\n",
       "    </tr>\n",
       "    <tr>\n",
       "      <th>9</th>\n",
       "      <td>9</td>\n",
       "      <td>No passing</td>\n",
       "      <td>1320</td>\n",
       "    </tr>\n",
       "  </tbody>\n",
       "</table>\n",
       "</div>"
      ],
      "text/plain": [
       "   ClassId                                      SignName  Occurance\n",
       "0        2                          Speed limit (50km/h)       2010\n",
       "1        1                          Speed limit (30km/h)       1980\n",
       "2       13                                         Yield       1920\n",
       "3       12                                 Priority road       1890\n",
       "4       38                                    Keep right       1860\n",
       "5       10  No passing for vehicles over 3.5 metric tons       1800\n",
       "6        4                          Speed limit (70km/h)       1770\n",
       "7        5                          Speed limit (80km/h)       1650\n",
       "8       25                                     Road work       1350\n",
       "9        9                                    No passing       1320"
      ]
     },
     "execution_count": 26,
     "metadata": {},
     "output_type": "execute_result"
    }
   ],
   "source": [
    "data_pd_sorted.head(10)"
   ]
  },
  {
   "cell_type": "code",
   "execution_count": 27,
   "metadata": {},
   "outputs": [
    {
     "data": {
      "text/html": [
       "<div>\n",
       "<style scoped>\n",
       "    .dataframe tbody tr th:only-of-type {\n",
       "        vertical-align: middle;\n",
       "    }\n",
       "\n",
       "    .dataframe tbody tr th {\n",
       "        vertical-align: top;\n",
       "    }\n",
       "\n",
       "    .dataframe thead th {\n",
       "        text-align: right;\n",
       "    }\n",
       "</style>\n",
       "<table border=\"1\" class=\"dataframe\">\n",
       "  <thead>\n",
       "    <tr style=\"text-align: right;\">\n",
       "      <th></th>\n",
       "      <th>ClassId</th>\n",
       "      <th>SignName</th>\n",
       "      <th>Occurance</th>\n",
       "    </tr>\n",
       "  </thead>\n",
       "  <tbody>\n",
       "    <tr>\n",
       "      <th>33</th>\n",
       "      <td>21</td>\n",
       "      <td>Double curve</td>\n",
       "      <td>270</td>\n",
       "    </tr>\n",
       "    <tr>\n",
       "      <th>34</th>\n",
       "      <td>29</td>\n",
       "      <td>Bicycles crossing</td>\n",
       "      <td>240</td>\n",
       "    </tr>\n",
       "    <tr>\n",
       "      <th>35</th>\n",
       "      <td>24</td>\n",
       "      <td>Road narrows on the right</td>\n",
       "      <td>240</td>\n",
       "    </tr>\n",
       "    <tr>\n",
       "      <th>36</th>\n",
       "      <td>41</td>\n",
       "      <td>End of no passing</td>\n",
       "      <td>210</td>\n",
       "    </tr>\n",
       "    <tr>\n",
       "      <th>37</th>\n",
       "      <td>42</td>\n",
       "      <td>End of no passing by vehicles over 3.5 metric ...</td>\n",
       "      <td>210</td>\n",
       "    </tr>\n",
       "    <tr>\n",
       "      <th>38</th>\n",
       "      <td>32</td>\n",
       "      <td>End of all speed and passing limits</td>\n",
       "      <td>210</td>\n",
       "    </tr>\n",
       "    <tr>\n",
       "      <th>39</th>\n",
       "      <td>27</td>\n",
       "      <td>Pedestrians</td>\n",
       "      <td>210</td>\n",
       "    </tr>\n",
       "    <tr>\n",
       "      <th>40</th>\n",
       "      <td>37</td>\n",
       "      <td>Go straight or left</td>\n",
       "      <td>180</td>\n",
       "    </tr>\n",
       "    <tr>\n",
       "      <th>41</th>\n",
       "      <td>19</td>\n",
       "      <td>Dangerous curve to the left</td>\n",
       "      <td>180</td>\n",
       "    </tr>\n",
       "    <tr>\n",
       "      <th>42</th>\n",
       "      <td>0</td>\n",
       "      <td>Speed limit (20km/h)</td>\n",
       "      <td>180</td>\n",
       "    </tr>\n",
       "  </tbody>\n",
       "</table>\n",
       "</div>"
      ],
      "text/plain": [
       "    ClassId                                           SignName  Occurance\n",
       "33       21                                       Double curve        270\n",
       "34       29                                  Bicycles crossing        240\n",
       "35       24                          Road narrows on the right        240\n",
       "36       41                                  End of no passing        210\n",
       "37       42  End of no passing by vehicles over 3.5 metric ...        210\n",
       "38       32                End of all speed and passing limits        210\n",
       "39       27                                        Pedestrians        210\n",
       "40       37                                Go straight or left        180\n",
       "41       19                        Dangerous curve to the left        180\n",
       "42        0                               Speed limit (20km/h)        180"
      ]
     },
     "execution_count": 27,
     "metadata": {},
     "output_type": "execute_result"
    }
   ],
   "source": [
    "data_pd_sorted.tail(10)"
   ]
  },
  {
   "cell_type": "code",
   "execution_count": 28,
   "metadata": {},
   "outputs": [
    {
     "data": {
      "text/plain": [
       "<BarContainer object of 43 artists>"
      ]
     },
     "execution_count": 28,
     "metadata": {},
     "output_type": "execute_result"
    },
    {
     "data": {
      "image/png": "[encoded data removed]",
      "text/plain": [
       "<Figure size 864x576 with 1 Axes>"
      ]
     },
     "metadata": {
      "needs_background": "light"
     },
     "output_type": "display_data"
    }
   ],
   "source": [
    "plt.figure(figsize=(12,8))\n",
    "plt.bar(range(43),height=data_pd_sorted[\"Occurance\"])"
   ]
  },
  {
   "cell_type": "code",
   "execution_count": 10,
   "metadata": {},
   "outputs": [],
   "source": [
    "img_resize = 32\n",
    "def transform_image(image,ang_range,shear_range,trans_range):\n",
    "\n",
    "    # Rotation\n",
    "\n",
    "    ang_rot = np.random.uniform(ang_range)-ang_range/2\n",
    "    rows,cols,ch = image.shape    \n",
    "    Rot_M = cv2.getRotationMatrix2D((cols/2,rows/2),ang_rot,1)\n",
    "\n",
    "    # Translation\n",
    "    tr_x = trans_range*np.random.uniform()-trans_range/2\n",
    "    tr_y = trans_range*np.random.uniform()-trans_range/2\n",
    "    Trans_M = np.float32([[1,0,tr_x],[0,1,tr_y]])\n",
    "\n",
    "    # Shear\n",
    "    pts1 = np.float32([[5,5],[20,5],[5,20]])\n",
    "\n",
    "    pt1 = 5+shear_range*np.random.uniform()-shear_range/2\n",
    "    pt2 = 20+shear_range*np.random.uniform()-shear_range/2\n",
    "\n",
    "    pts2 = np.float32([[pt1,5],[pt2,pt1],[5,pt2]])\n",
    "\n",
    "    shear_M = cv2.getAffineTransform(pts1,pts2)\n",
    "\n",
    "    image = cv2.warpAffine(image,Rot_M,(cols,rows))\n",
    "    image = cv2.warpAffine(image,Trans_M,(cols,rows))\n",
    "    image = cv2.warpAffine(image,shear_M,(cols,rows))\n",
    "\n",
    "    image = pre_process_image(image)\n",
    "\n",
    "    #image = cv2.cvtColor(image, cv2.COLOR_BGR2YUV)\n",
    "    #image = image[:,:,0]\n",
    "    #image = cv2.resize(image, (img_resize,img_resize),interpolation = cv2.INTER_CUBIC)\n",
    "\n",
    "    return image\n",
    "\n",
    "def get_index_dict(y_train):\n",
    "    # Returns indices of each label\n",
    "    # Assumes that the labels are 0 to N-1\n",
    "    dict_indices = {}\n",
    "    ind_all = np.arange(len(y_train))\n",
    "\n",
    "    for i in range(len(np.unique(y_train))):\n",
    "        ind_i = ind_all[y_train == i]\n",
    "        dict_indices[i] = ind_i\n",
    "        #print(ind_i)\n",
    "    return dict_indices\n",
    "\n",
    "def gen_transformed_data(X_train,y_train,N_classes,n_each,ang_range,shear_range,trans_range,randomize_Var):\n",
    "\n",
    "   dict_indices = get_index_dict(y_train)\n",
    "   n_class = len(np.unique(y_train))\n",
    "   X_arr = []\n",
    "   Y_arr = []\n",
    "   for i in range(n_class):\n",
    "       len_i = len(dict_indices[i])\n",
    "       ind_rand = np.random.randint(0,len_i,n_each)\n",
    "       ind_dict_class  = dict_indices[i]\n",
    "\n",
    "       for i_n in range(n_each):\n",
    "           img_trf = transform_image(X_train[ind_dict_class[ind_rand[i_n]]],\n",
    "                                     ang_range,shear_range,trans_range)\n",
    "           X_arr.append(img_trf)\n",
    "           Y_arr.append(i)\n",
    "\n",
    "   X_arr = np.array(X_arr,dtype = np.float32())\n",
    "   Y_arr = np.array(Y_arr,dtype = np.float32())\n",
    "\n",
    "   if (randomize_Var == 1):\n",
    "       len_arr = np.arange(len(Y_arr))\n",
    "       np.random.shuffle(len_arr)\n",
    "       X_arr[len_arr] = X_arr\n",
    "       Y_arr[len_arr] = Y_arr\n",
    "\n",
    "   labels_arr = OHE_labels(Y_arr,43)\n",
    "\n",
    "   return X_arr,Y_arr,labels_arr\n",
    "\n",
    "\n",
    "def gen_extra_data(X_train,y_train,N_classes,n_each,ang_range,shear_range,trans_range,randomize_Var):\n",
    "\n",
    "    dict_indices = get_index_dict(y_train)\n",
    "    n_class = len(np.unique(y_train))\n",
    "    X_arr = []\n",
    "    Y_arr = []\n",
    "    n_train = len(X_train)\n",
    "    for i in range(n_train):\n",
    "        #X_arr.append(transform_image(X_train[i],0,0,0)/255.)\n",
    "        #Y_arr.append(y_train[i])\n",
    "        for i_n in range(n_each):\n",
    "            img_trf = transform_image(X_train[i],\n",
    "                                      ang_range,shear_range,trans_range)\n",
    "            X_arr.append(img_trf)\n",
    "            Y_arr.append(y_train[i])\n",
    "\n",
    "    X_arr = np.array(X_arr,dtype = np.float32())\n",
    "    Y_arr = np.array(Y_arr,dtype = np.float32())\n",
    "\n",
    "    if (randomize_Var == 1):\n",
    "        len_arr = np.arange(len(Y_arr))\n",
    "        np.random.shuffle(len_arr)\n",
    "        X_arr[len_arr] = X_arr\n",
    "        Y_arr[len_arr] = Y_arr\n",
    "\n",
    "    labels_arr = OHE_labels(Y_arr,43)\n",
    "\n",
    "    return X_arr,Y_arr,labels_arr"
   ]
  },
  {
   "cell_type": "code",
   "execution_count": 11,
   "metadata": {},
   "outputs": [],
   "source": [
    "Image_train_GS_rot,y_train_rot,labels_train_rot = gen_transformed_data(X_train,y_train,\n",
    "                                                                       43,100,30,5,5,1)"
   ]
  },
  {
   "cell_type": "code",
   "execution_count": 12,
   "metadata": {},
   "outputs": [
    {
     "data": {
      "text/plain": [
       "4300"
      ]
     },
     "execution_count": 12,
     "metadata": {},
     "output_type": "execute_result"
    }
   ],
   "source": [
    "len(Image_train_GS_rot) # this is the extra data generated: 43 classes x 50 images each"
   ]
  },
  {
   "cell_type": "code",
   "execution_count": 13,
   "metadata": {},
   "outputs": [],
   "source": [
    "def random_batch():\n",
    "    # Number of images in the training-set.\n",
    "    num_images = len(Image_train_GS_rot_1)\n",
    "\n",
    "    # Create a random index.\n",
    "    idx = np.random.choice(num_images,\n",
    "                           size=batch_size,\n",
    "                           replace=False)\n",
    "\n",
    "    # Use the random index to select random images and labels.\n",
    "    features_batch = Image_train_GS_rot_1[idx, :,:,:]\n",
    "    labels_batch = labels_train_rot[idx, :]\n",
    "\n",
    "    return features_batch, labels_batch"
   ]
  },
  {
   "cell_type": "code",
   "execution_count": 14,
   "metadata": {},
   "outputs": [
    {
     "name": "stdout",
     "output_type": "stream",
     "text": [
      "Original X data:  (39209, 32, 32, 3)\n",
      "Augmented data:  (4300, 32, 32, 3)\n",
      "Combined data:  (43509, 32, 32, 3)\n",
      "\n",
      "Original y data:  (39209,)\n",
      "Augmented data:  (4300,)\n",
      "Combined data:  (43509,)\n",
      "\n",
      "Original y data:  (39209, 43)\n",
      "Augmented data:  (4300, 43)\n",
      "Combined data:  (43509, 43)\n"
     ]
    }
   ],
   "source": [
    "# Stack the augmented data on the original data\n",
    "\n",
    "print('Original X data: ',X_train.shape)\n",
    "print('Augmented data: ', Image_train_GS_rot.shape)\n",
    "X_combined_train = np.vstack((X_train, Image_train_GS_rot))\n",
    "print('Combined data: ',X_combined_train.shape)\n",
    "\n",
    "print('\\nOriginal y data: ',y_train.shape)\n",
    "print('Augmented data: ', y_train_rot.shape)\n",
    "y_combined_train = np.concatenate((y_train, y_train_rot))\n",
    "print('Combined data: ',y_combined_train.shape)\n",
    "\n",
    "print('\\nOriginal y data: ',labels_train.shape)\n",
    "print('Augmented data: ', labels_train_rot.shape)\n",
    "labels_combined_train = np.vstack((labels_train, labels_train_rot))\n",
    "print('Combined data: ',labels_combined_train.shape)\n"
   ]
  },
  {
   "cell_type": "code",
   "execution_count": 16,
   "metadata": {},
   "outputs": [
    {
     "name": "stdout",
     "output_type": "stream",
     "text": [
      "Reshaped train data:  (43509, 3, 32, 32)\n",
      "Reshaped test data:  (12630, 3, 32, 32)\n"
     ]
    }
   ],
   "source": [
    "X_train_reshape = np.reshape(X_combined_train, (43509,3,32,32))/255\n",
    "print('Reshaped train data: ',X_train_reshape.shape)\n",
    "\n",
    "X_test_reshape = np.reshape(X_test, (12630,3,32,32))/255\n",
    "print('Reshaped test data: ',X_test_reshape.shape)\n"
   ]
  },
  {
   "cell_type": "code",
   "execution_count": 17,
   "metadata": {},
   "outputs": [
    {
     "name": "stdout",
     "output_type": "stream",
     "text": [
      "_________________________________________________________________\n",
      "Layer (type)                 Output Shape              Param #   \n",
      "=================================================================\n",
      "conv2d_1 (Conv2D)            (None, 30, 30, 32)        896       \n",
      "_________________________________________________________________\n",
      "activation_1 (Activation)    (None, 30, 30, 32)        0         \n",
      "_________________________________________________________________\n",
      "max_pooling2d_1 (MaxPooling2 (None, 15, 15, 32)        0         \n",
      "_________________________________________________________________\n",
      "conv2d_2 (Conv2D)            (None, 13, 13, 32)        9248      \n",
      "_________________________________________________________________\n",
      "activation_2 (Activation)    (None, 13, 13, 32)        0         \n",
      "_________________________________________________________________\n",
      "max_pooling2d_2 (MaxPooling2 (None, 6, 6, 32)          0         \n",
      "_________________________________________________________________\n",
      "conv2d_3 (Conv2D)            (None, 4, 4, 64)          18496     \n",
      "_________________________________________________________________\n",
      "activation_3 (Activation)    (None, 4, 4, 64)          0         \n",
      "_________________________________________________________________\n",
      "max_pooling2d_3 (MaxPooling2 (None, 2, 2, 64)          0         \n",
      "_________________________________________________________________\n",
      "flatten_1 (Flatten)          (None, 256)               0         \n",
      "_________________________________________________________________\n",
      "dense_1 (Dense)              (None, 100)               25700     \n",
      "_________________________________________________________________\n",
      "dropout_1 (Dropout)          (None, 100)               0         \n",
      "_________________________________________________________________\n",
      "dense_2 (Dense)              (None, 43)                4343      \n",
      "=================================================================\n",
      "Total params: 58,683\n",
      "Trainable params: 58,683\n",
      "Non-trainable params: 0\n",
      "_________________________________________________________________\n"
     ]
    }
   ],
   "source": [
    "# a simple stack of 3 convolution layers with a ReLU activation and followed by max-pooling layers.\n",
    "\n",
    "from keras.models import Sequential\n",
    "from keras.layers import Activation, Dropout, Flatten, Dense\n",
    "from keras.preprocessing.image import ImageDataGenerator\n",
    "from keras.layers import Convolution2D, MaxPooling2D, ZeroPadding2D\n",
    "from keras import optimizers\n",
    "from keras import applications\n",
    "from keras.models import Model\n",
    "\n",
    "model = Sequential()\n",
    "model.add(Convolution2D(32, (3, 3), input_shape=(32, 32,3)))\n",
    "model.add(Activation('relu'))\n",
    "model.add(MaxPooling2D(pool_size=(2, 2)))\n",
    "\n",
    "model.add(Convolution2D(32, (3, 3)))\n",
    "model.add(Activation('relu'))\n",
    "model.add(MaxPooling2D(pool_size=(2, 2)))\n",
    "\n",
    "model.add(Convolution2D(64, (3, 3)))\n",
    "model.add(Activation('relu'))\n",
    "model.add(MaxPooling2D(pool_size=(2, 2)))\n",
    "\n",
    "model.add(Flatten())\n",
    "model.add(Dense(100))\n",
    "model.add(Dropout(0.5))\n",
    "model.add(Dense(43,activation='softmax'))\n",
    "\n",
    "model.compile(loss=keras.losses.categorical_crossentropy,\n",
    "              optimizer=keras.optimizers.Adadelta(), metrics=['accuracy']\n",
    "              )\n",
    "\n",
    "model.summary()\n",
    "\n"
   ]
  },
  {
   "cell_type": "code",
   "execution_count": null,
   "metadata": {
    "collapsed": true
   },
   "outputs": [],
   "source": [
    "\n",
    "model.fit(X_combined_train,labels_combined_train,batch_size=32,epochs=10,verbose=1)\n",
    "accuracy = model.evaluate(x=X_test,y=labels_test,batch_size=32)\n",
    "print(\"Accuracy: \",accuracy[1])\n",
    "\n",
    "# Accuracy was 44%. Stinks."
   ]
  },
  {
   "cell_type": "markdown",
   "metadata": {},
   "source": [
    "# Using a pre-trained model (vgg16 - compatible with 32x32x3 inputs)"
   ]
  },
  {
   "cell_type": "code",
   "execution_count": 18,
   "metadata": {},
   "outputs": [],
   "source": [
    "from keras import optimizers\n",
    "from keras import applications\n",
    "from keras.models import Model\n",
    "#Using TensorFlow backend.\n",
    "\n",
    "# dimensions of our images.\n",
    "img_width, img_height = 32, 32\n",
    "\n",
    "model_vgg = applications.VGG16(include_top=False, weights='imagenet') # instance of vgg16\n",
    "# Note include_top=False indicates dropping final fully connected layer\n"
   ]
  },
  {
   "cell_type": "code",
   "execution_count": 19,
   "metadata": {},
   "outputs": [
    {
     "name": "stdout",
     "output_type": "stream",
     "text": [
      "_________________________________________________________________\n",
      "Layer (type)                 Output Shape              Param #   \n",
      "=================================================================\n",
      "input_1 (InputLayer)         (None, None, None, 3)     0         \n",
      "_________________________________________________________________\n",
      "block1_conv1 (Conv2D)        (None, None, None, 64)    1792      \n",
      "_________________________________________________________________\n",
      "block1_conv2 (Conv2D)        (None, None, None, 64)    36928     \n",
      "_________________________________________________________________\n",
      "block1_pool (MaxPooling2D)   (None, None, None, 64)    0         \n",
      "_________________________________________________________________\n",
      "block2_conv1 (Conv2D)        (None, None, None, 128)   73856     \n",
      "_________________________________________________________________\n",
      "block2_conv2 (Conv2D)        (None, None, None, 128)   147584    \n",
      "_________________________________________________________________\n",
      "block2_pool (MaxPooling2D)   (None, None, None, 128)   0         \n",
      "_________________________________________________________________\n",
      "block3_conv1 (Conv2D)        (None, None, None, 256)   295168    \n",
      "_________________________________________________________________\n",
      "block3_conv2 (Conv2D)        (None, None, None, 256)   590080    \n",
      "_________________________________________________________________\n",
      "block3_conv3 (Conv2D)        (None, None, None, 256)   590080    \n",
      "_________________________________________________________________\n",
      "block3_pool (MaxPooling2D)   (None, None, None, 256)   0         \n",
      "_________________________________________________________________\n",
      "block4_conv1 (Conv2D)        (None, None, None, 512)   1180160   \n",
      "_________________________________________________________________\n",
      "block4_conv2 (Conv2D)        (None, None, None, 512)   2359808   \n",
      "_________________________________________________________________\n",
      "block4_conv3 (Conv2D)        (None, None, None, 512)   2359808   \n",
      "_________________________________________________________________\n",
      "block4_pool (MaxPooling2D)   (None, None, None, 512)   0         \n",
      "_________________________________________________________________\n",
      "block5_conv1 (Conv2D)        (None, None, None, 512)   2359808   \n",
      "_________________________________________________________________\n",
      "block5_conv2 (Conv2D)        (None, None, None, 512)   2359808   \n",
      "_________________________________________________________________\n",
      "block5_conv3 (Conv2D)        (None, None, None, 512)   2359808   \n",
      "_________________________________________________________________\n",
      "block5_pool (MaxPooling2D)   (None, None, None, 512)   0         \n",
      "=================================================================\n",
      "Total params: 14,714,688\n",
      "Trainable params: 14,714,688\n",
      "Non-trainable params: 0\n",
      "_________________________________________________________________\n"
     ]
    }
   ],
   "source": [
    "model_vgg.summary()"
   ]
  },
  {
   "cell_type": "code",
   "execution_count": 72,
   "metadata": {},
   "outputs": [],
   "source": [
    "# Create an image generator, function to create images\n",
    "\n",
    "from keras import optimizers\n",
    "from keras import applications\n",
    "from keras.preprocessing.image import ImageDataGenerator\n",
    "\n",
    "datagen = ImageDataGenerator(\n",
    "        rescale=1./255,        # normalize pixel values to [0,1]\n",
    "        shear_range=0.2,       # randomly applies shearing transformation\n",
    "        zoom_range=0.2,        # randomly applies shearing transformation\n",
    "        horizontal_flip=False)  # randomly flip the images\n",
    "\n",
    "datagen.fit(X_combined_train) # calculates needed statistics on training data\n",
    "\n",
    "def aug_img(orig_x,orig_y,batch_size):\n",
    "    X_aug = []\n",
    "    y_aug = []\n",
    "    num_augmented = 0\n",
    "    for X_batch, y_batch in datagen.flow(orig_x, orig_y, batch_size=batch_size, shuffle=True):\n",
    "        X_aug.append(X_batch)\n",
    "        y_aug.append(y_batch)\n",
    "        num_augmented += batch_size\n",
    "        if num_augmented == 6400: #orig_x.shape[0]\n",
    "            break\n",
    "    X_aug = np.concatenate(X_aug)\n",
    "    y_aug = np.concatenate(y_aug)\n",
    "    print('Augmented X shape: ',X_aug.shape)\n",
    "    print('Augmented y shape: ',y_aug.shape)\n",
    "    return X_aug, y_aug\n",
    "\n"
   ]
  },
  {
   "cell_type": "code",
   "execution_count": 73,
   "metadata": {},
   "outputs": [
    {
     "name": "stdout",
     "output_type": "stream",
     "text": [
      "Augmented X shape:  (6400, 32, 32, 3)\n",
      "Augmented y shape:  (6400,)\n"
     ]
    }
   ],
   "source": [
    "X_train_aug, y_train_aug = aug_img(X_combined_train,y_combined_train,32) # Create augmented training images"
   ]
  },
  {
   "cell_type": "code",
   "execution_count": 74,
   "metadata": {},
   "outputs": [
    {
     "name": "stdout",
     "output_type": "stream",
     "text": [
      "Augmented X shape:  (6400, 32, 32, 3)\n",
      "Augmented y shape:  (6400,)\n"
     ]
    }
   ],
   "source": [
    "X_test_aug, y_test_aug = aug_img(X_test,y_test,32) # Create augmented test images"
   ]
  },
  {
   "cell_type": "code",
   "execution_count": 75,
   "metadata": {},
   "outputs": [
    {
     "data": {
      "text/plain": [
       "(array([ 0.,  1.,  2.,  3.,  4.,  5.,  6.,  7.,  8.,  9., 10., 11., 12.,\n",
       "        13., 14., 15., 16., 17., 18., 19., 20., 21., 22., 23., 24., 25.,\n",
       "        26., 27., 28., 29., 30., 31., 32., 33., 34., 35., 36., 37., 38.,\n",
       "        39., 40., 41., 42.], dtype=float32),\n",
       " array([ 76, 329, 383, 243, 341, 301, 100, 246, 259, 248, 277, 227, 327,\n",
       "        336, 126, 109,  74, 209, 201,  49,  54,  59,  75,  88,  49, 232,\n",
       "         82,  34,  75,  36,  74, 128,  40, 109,  72, 169,  69,  43, 295,\n",
       "         37,  42,  39,  38]))"
      ]
     },
     "execution_count": 75,
     "metadata": {},
     "output_type": "execute_result"
    }
   ],
   "source": [
    "np.unique(y_train_aug, return_counts=True)"
   ]
  },
  {
   "cell_type": "code",
   "execution_count": 76,
   "metadata": {},
   "outputs": [
    {
     "name": "stdout",
     "output_type": "stream",
     "text": [
      "6400/6400 [==============================] - 4433s 693ms/step\n"
     ]
    }
   ],
   "source": [
    "train_samples = len(X_test_aug)\n",
    "batch_size = 32\n",
    "\n",
    "bottleneck_features_train = model_vgg.predict(X_train_aug, train_samples // batch_size, verbose=1)\n",
    "np.save(open('bottleneck_features_train.npy', 'wb'), bottleneck_features_train)\n"
   ]
  },
  {
   "cell_type": "code",
   "execution_count": 78,
   "metadata": {},
   "outputs": [
    {
     "name": "stdout",
     "output_type": "stream",
     "text": [
      "6400/6400 [==============================] - 4155s 649ms/step\n"
     ]
    }
   ],
   "source": [
    "validation_samples = len(X_test_aug)\n",
    "validation_samples = 256\n",
    "\n",
    "bottleneck_features_validation = model_vgg.predict(X_test_aug, validation_samples // batch_size, verbose=1)\n",
    "np.save(open('bottleneck_features_validation.npy', 'wb'), bottleneck_features_validation)"
   ]
  },
  {
   "cell_type": "code",
   "execution_count": 79,
   "metadata": {},
   "outputs": [],
   "source": [
    "#Now we can load it...\n",
    "\n",
    "import keras.utils as ku\n",
    "\n",
    "train_data = np.load(open('bottleneck_features_train.npy', 'rb'))\n",
    "train_labels = ku.to_categorical(y_train_aug, num_classes=43)\n",
    "\n",
    "validation_data = np.load(open('bottleneck_features_validation.npy', 'rb'))\n",
    "validation_labels = ku.to_categorical(y_test_aug, num_classes=43)"
   ]
  },
  {
   "cell_type": "code",
   "execution_count": 80,
   "metadata": {},
   "outputs": [
    {
     "name": "stdout",
     "output_type": "stream",
     "text": [
      "Train on 6400 samples, validate on 6400 samples\n",
      "Epoch 1/10\n",
      "6400/6400 [==============================] - 16s 2ms/step - loss: 0.1075 - acc: 0.9721 - val_loss: 0.0736 - val_acc: 0.9787\n",
      "Epoch 2/10\n",
      "6400/6400 [==============================] - 11s 2ms/step - loss: 0.0744 - acc: 0.9790 - val_loss: 0.0655 - val_acc: 0.9794\n",
      "Epoch 3/10\n",
      "6400/6400 [==============================] - 9s 1ms/step - loss: 0.0669 - acc: 0.9798 - val_loss: 0.0622 - val_acc: 0.9802\n",
      "Epoch 4/10\n",
      "6400/6400 [==============================] - 8s 1ms/step - loss: 0.0629 - acc: 0.9804 - val_loss: 0.0602 - val_acc: 0.9807\n",
      "Epoch 5/10\n",
      "6400/6400 [==============================] - 8s 1ms/step - loss: 0.0600 - acc: 0.9810 - val_loss: 0.0592 - val_acc: 0.9809\n",
      "Epoch 6/10\n",
      "6400/6400 [==============================] - 8s 1ms/step - loss: 0.0581 - acc: 0.9814 - val_loss: 0.0586 - val_acc: 0.9809\n",
      "Epoch 7/10\n",
      "6400/6400 [==============================] - 9s 1ms/step - loss: 0.0563 - acc: 0.9817 - val_loss: 0.0577 - val_acc: 0.9814\n",
      "Epoch 8/10\n",
      "6400/6400 [==============================] - 8s 1ms/step - loss: 0.0552 - acc: 0.9819 - val_loss: 0.0566 - val_acc: 0.9813\n",
      "Epoch 9/10\n",
      "6400/6400 [==============================] - 9s 1ms/step - loss: 0.0540 - acc: 0.9824 - val_loss: 0.0578 - val_acc: 0.9813\n",
      "Epoch 10/10\n",
      "6400/6400 [==============================] - 10s 2ms/step - loss: 0.0530 - acc: 0.9826 - val_loss: 0.0569 - val_acc: 0.9816\n"
     ]
    },
    {
     "data": {
      "text/plain": [
       "<keras.callbacks.History at 0x1a4d1b2c50>"
      ]
     },
     "execution_count": 80,
     "metadata": {},
     "output_type": "execute_result"
    }
   ],
   "source": [
    "#And define and train the custom fully connected neural network :\n",
    "\n",
    "epochs = 10\n",
    "\n",
    "from keras.models import Sequential\n",
    "from keras.layers import Activation, Dropout, Flatten, Dense\n",
    "from keras.layers import Convolution2D, MaxPooling2D, ZeroPadding2D\n",
    "from keras.models import Model\n",
    "\n",
    "model_top = Sequential()\n",
    "model_top.add(Flatten(input_shape=train_data.shape[1:]))\n",
    "model_top.add(Dense(256, activation='relu'))\n",
    "model_top.add(Dropout(0.5))\n",
    "model_top.add(Dense(43, activation='sigmoid'))\n",
    "\n",
    "model_top.compile(optimizer='rmsprop', loss='binary_crossentropy', metrics=['accuracy'])\n",
    "\n",
    "model_top.fit(train_data, train_labels,\n",
    "        epochs=epochs, \n",
    "        batch_size=batch_size,\n",
    "        validation_data=(validation_data, validation_labels))"
   ]
  },
  {
   "cell_type": "code",
   "execution_count": 81,
   "metadata": {},
   "outputs": [
    {
     "name": "stdout",
     "output_type": "stream",
     "text": [
      "6400/6400 [==============================] - 2s 383us/step\n"
     ]
    },
    {
     "data": {
      "text/plain": [
       "[0.05693452993407846, 0.9815806594491004]"
      ]
     },
     "execution_count": 81,
     "metadata": {},
     "output_type": "execute_result"
    }
   ],
   "source": [
    "model_top.evaluate(validation_data, validation_labels)"
   ]
  },
  {
   "cell_type": "code",
   "execution_count": 82,
   "metadata": {},
   "outputs": [
    {
     "name": "stdout",
     "output_type": "stream",
     "text": [
      "6400/6400 [==============================] - 2s 375us/step\n"
     ]
    }
   ],
   "source": [
    "y_proba = model_top.predict(train_data,verbose=1)\n",
    "#y_classes = keras.np_utils.probas_to_classes(y_proba)"
   ]
  },
  {
   "cell_type": "code",
   "execution_count": 83,
   "metadata": {},
   "outputs": [
    {
     "data": {
      "text/plain": [
       "array([4.9803811e-03, 2.0940408e-02, 6.1826985e-02, 8.5117050e-02,\n",
       "       9.5641993e-02, 6.0504694e-02, 1.1276921e-04, 9.4484366e-02,\n",
       "       1.6600539e-01, 1.4838026e-02, 4.8502780e-02, 1.2017486e-04,\n",
       "       2.2746134e-04, 3.3249624e-05, 8.4453850e-04, 8.6582210e-03,\n",
       "       2.4813311e-02, 2.2366105e-04, 2.1905807e-05, 3.2663099e-06,\n",
       "       6.1581422e-06, 1.7567341e-05, 1.4950211e-05, 5.9134413e-06,\n",
       "       1.2720377e-06, 4.3903270e-05, 2.2035858e-05, 3.6210192e-06,\n",
       "       5.1508191e-06, 8.1878397e-07, 1.9744255e-05, 2.3359687e-05,\n",
       "       5.5815628e-05, 1.3034379e-04, 3.6278940e-04, 1.4237509e-04,\n",
       "       9.6880649e-06, 4.7120452e-06, 8.0696668e-04, 1.5080188e-05,\n",
       "       4.6302457e-06, 1.1128408e-05, 2.3808527e-05], dtype=float32)"
      ]
     },
     "execution_count": 83,
     "metadata": {},
     "output_type": "execute_result"
    }
   ],
   "source": [
    "y_proba[1]"
   ]
  },
  {
   "cell_type": "code",
   "execution_count": 141,
   "metadata": {},
   "outputs": [
    {
     "name": "stdout",
     "output_type": "stream",
     "text": [
      "6400/6400 [==============================] - 13s 2ms/step\n"
     ]
    }
   ],
   "source": [
    "y_test_prob = model_top.predict(validation_data,verbose=1)"
   ]
  },
  {
   "cell_type": "code",
   "execution_count": 144,
   "metadata": {},
   "outputs": [],
   "source": [
    "best_test_prob = np.argsort(y_test_prob)[:,-1]\n",
    "label_and_predicted = np.transpose(np.stack((best_test_prob, y_test_aug)))\n",
    "diff = test[:,0] - test[:,1]"
   ]
  },
  {
   "cell_type": "code",
   "execution_count": 145,
   "metadata": {},
   "outputs": [
    {
     "name": "stdout",
     "output_type": "stream",
     "text": [
      "[[ -40    1]\n",
      " [ -39    4]\n",
      " [ -37    2]\n",
      " [ -36   19]\n",
      " [ -35    8]\n",
      " [ -34    5]\n",
      " [ -33   11]\n",
      " [ -32    6]\n",
      " [ -31    6]\n",
      " [ -30    3]\n",
      " [ -29    3]\n",
      " [ -28    5]\n",
      " [ -27   13]\n",
      " [ -26   34]\n",
      " [ -25    9]\n",
      " [ -23    2]\n",
      " [ -22    3]\n",
      " [ -21   11]\n",
      " [ -20    8]\n",
      " [ -19   21]\n",
      " [ -18   12]\n",
      " [ -17   15]\n",
      " [ -16   13]\n",
      " [ -15   18]\n",
      " [ -14   47]\n",
      " [ -13   39]\n",
      " [ -12   37]\n",
      " [ -11   36]\n",
      " [ -10   42]\n",
      " [  -9   16]\n",
      " [  -8   47]\n",
      " [  -7   89]\n",
      " [  -6  100]\n",
      " [  -5   91]\n",
      " [  -4  103]\n",
      " [  -3  210]\n",
      " [  -2  184]\n",
      " [  -1  294]\n",
      " [   0 3137]\n",
      " [   1  309]\n",
      " [   2  338]\n",
      " [   3  267]\n",
      " [   4  124]\n",
      " [   5  142]\n",
      " [   6   88]\n",
      " [   7  128]\n",
      " [   8   34]\n",
      " [   9   34]\n",
      " [  10   23]\n",
      " [  11   23]\n",
      " [  12   33]\n",
      " [  13   23]\n",
      " [  14   56]\n",
      " [  15    4]\n",
      " [  16    2]\n",
      " [  17    2]\n",
      " [  18    2]\n",
      " [  19    4]\n",
      " [  20    8]\n",
      " [  21    4]\n",
      " [  22    5]\n",
      " [  23    5]\n",
      " [  24    3]\n",
      " [  25    1]\n",
      " [  26    8]\n",
      " [  28    4]\n",
      " [  29    3]\n",
      " [  30    2]\n",
      " [  31    1]\n",
      " [  33    1]\n",
      " [  34    4]\n",
      " [  35    4]\n",
      " [  36    5]\n",
      " [  37    1]\n",
      " [  38    1]]\n"
     ]
    }
   ],
   "source": [
    "def unique_count(a):\n",
    "    unique, inverse = np.unique(a, return_inverse=True)\n",
    "    count = np.zeros(len(unique), np.int)\n",
    "    np.add.at(count, inverse, 1)\n",
    "    return np.vstack(( unique, count)).T\n",
    "\n",
    "print(unique_count(diff))"
   ]
  },
  {
   "cell_type": "code",
   "execution_count": null,
   "metadata": {},
   "outputs": [],
   "source": []
  }
 ],
 "metadata": {
  "kernelspec": {
   "display_name": "Python 3",
   "language": "python",
   "name": "python3"
  },
  "language_info": {
   "codemirror_mode": {
    "name": "ipython",
    "version": 3
   },
   "file_extension": ".py",
   "mimetype": "text/x-python",
   "name": "python",
   "nbconvert_exporter": "python",
   "pygments_lexer": "ipython3",
   "version": "3.5.6"
  }
 },
 "nbformat": 4,
 "nbformat_minor": 2
}
